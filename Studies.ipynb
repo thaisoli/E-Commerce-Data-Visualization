{
 "cells": [
  {
   "cell_type": "code",
   "execution_count": 38,
   "metadata": {},
   "outputs": [],
   "source": [
    "# Let's import the libraries used in this study\n",
    "import pandas as pd\n",
    "import matplotlib.pyplot as plt\n",
    "import seaborn as sns\n",
    "from datetime import datetime"
   ]
  },
  {
   "cell_type": "code",
   "execution_count": 39,
   "metadata": {},
   "outputs": [],
   "source": [
    "# Let's read the csv data then save it in a dataframe named df\n",
    "df = pd.read_csv('DataCleaned.csv', parse_dates = ['Sale Date', 'Date Paid', 'Date Shipped'], index_col=[0])"
   ]
  },
  {
   "cell_type": "code",
   "execution_count": 40,
   "metadata": {},
   "outputs": [
    {
     "data": {
      "text/html": [
       "<div>\n",
       "<style scoped>\n",
       "    .dataframe tbody tr th:only-of-type {\n",
       "        vertical-align: middle;\n",
       "    }\n",
       "\n",
       "    .dataframe tbody tr th {\n",
       "        vertical-align: top;\n",
       "    }\n",
       "\n",
       "    .dataframe thead th {\n",
       "        text-align: right;\n",
       "    }\n",
       "</style>\n",
       "<table border=\"1\" class=\"dataframe\">\n",
       "  <thead>\n",
       "    <tr style=\"text-align: right;\">\n",
       "      <th></th>\n",
       "      <th>Sale Date</th>\n",
       "      <th>Item Name</th>\n",
       "      <th>Quantity</th>\n",
       "      <th>Price</th>\n",
       "      <th>Shipping Discount</th>\n",
       "      <th>Order Shipping</th>\n",
       "      <th>Order Sales Tax</th>\n",
       "      <th>Item Total</th>\n",
       "      <th>Date Paid</th>\n",
       "      <th>Date Shipped</th>\n",
       "      <th>Ship City</th>\n",
       "      <th>Ship State</th>\n",
       "      <th>Ship Zipcode</th>\n",
       "      <th>Ship Country</th>\n",
       "      <th>Variations</th>\n",
       "      <th>Item Type</th>\n",
       "    </tr>\n",
       "  </thead>\n",
       "  <tbody>\n",
       "    <tr>\n",
       "      <th>0</th>\n",
       "      <td>2020-07-15</td>\n",
       "      <td>Mask - Unicorns</td>\n",
       "      <td>1</td>\n",
       "      <td>14.0</td>\n",
       "      <td>0.0</td>\n",
       "      <td>3.64</td>\n",
       "      <td>0.0</td>\n",
       "      <td>14.0</td>\n",
       "      <td>2020-07-15</td>\n",
       "      <td>NaT</td>\n",
       "      <td>SARASOTA</td>\n",
       "      <td>FL</td>\n",
       "      <td>NaN</td>\n",
       "      <td>United States</td>\n",
       "      <td>Kids</td>\n",
       "      <td>Mask</td>\n",
       "    </tr>\n",
       "    <tr>\n",
       "      <th>1</th>\n",
       "      <td>2020-07-15</td>\n",
       "      <td>Mask - Cats</td>\n",
       "      <td>1</td>\n",
       "      <td>16.0</td>\n",
       "      <td>0.0</td>\n",
       "      <td>3.54</td>\n",
       "      <td>0.0</td>\n",
       "      <td>16.0</td>\n",
       "      <td>2020-07-15</td>\n",
       "      <td>NaT</td>\n",
       "      <td>Washington</td>\n",
       "      <td>DC</td>\n",
       "      <td>NaN</td>\n",
       "      <td>United States</td>\n",
       "      <td>Adults</td>\n",
       "      <td>Mask</td>\n",
       "    </tr>\n",
       "    <tr>\n",
       "      <th>2</th>\n",
       "      <td>2020-07-15</td>\n",
       "      <td>Mask - Daisies</td>\n",
       "      <td>1</td>\n",
       "      <td>16.0</td>\n",
       "      <td>0.0</td>\n",
       "      <td>3.98</td>\n",
       "      <td>0.0</td>\n",
       "      <td>16.0</td>\n",
       "      <td>2020-07-15</td>\n",
       "      <td>NaT</td>\n",
       "      <td>Anaheim</td>\n",
       "      <td>CA</td>\n",
       "      <td>NaN</td>\n",
       "      <td>United States</td>\n",
       "      <td>Adults</td>\n",
       "      <td>Mask</td>\n",
       "    </tr>\n",
       "    <tr>\n",
       "      <th>3</th>\n",
       "      <td>2020-07-14</td>\n",
       "      <td>Mask - Bananas on Pink</td>\n",
       "      <td>1</td>\n",
       "      <td>16.0</td>\n",
       "      <td>0.0</td>\n",
       "      <td>3.98</td>\n",
       "      <td>0.0</td>\n",
       "      <td>16.0</td>\n",
       "      <td>2020-07-14</td>\n",
       "      <td>NaT</td>\n",
       "      <td>West Hollywood</td>\n",
       "      <td>CA</td>\n",
       "      <td>NaN</td>\n",
       "      <td>United States</td>\n",
       "      <td>Teens</td>\n",
       "      <td>Mask</td>\n",
       "    </tr>\n",
       "    <tr>\n",
       "      <th>4</th>\n",
       "      <td>2020-07-14</td>\n",
       "      <td>Mask - Bananas on Pink</td>\n",
       "      <td>1</td>\n",
       "      <td>16.0</td>\n",
       "      <td>0.0</td>\n",
       "      <td>3.64</td>\n",
       "      <td>0.0</td>\n",
       "      <td>16.0</td>\n",
       "      <td>2020-07-14</td>\n",
       "      <td>NaT</td>\n",
       "      <td>Saint Paul</td>\n",
       "      <td>MN</td>\n",
       "      <td>NaN</td>\n",
       "      <td>United States</td>\n",
       "      <td>Kids</td>\n",
       "      <td>Mask</td>\n",
       "    </tr>\n",
       "  </tbody>\n",
       "</table>\n",
       "</div>"
      ],
      "text/plain": [
       "   Sale Date               Item Name  Quantity  Price  Shipping Discount  \\\n",
       "0 2020-07-15         Mask - Unicorns         1   14.0                0.0   \n",
       "1 2020-07-15             Mask - Cats         1   16.0                0.0   \n",
       "2 2020-07-15          Mask - Daisies         1   16.0                0.0   \n",
       "3 2020-07-14  Mask - Bananas on Pink         1   16.0                0.0   \n",
       "4 2020-07-14  Mask - Bananas on Pink         1   16.0                0.0   \n",
       "\n",
       "   Order Shipping  Order Sales Tax  Item Total  Date Paid Date Shipped  \\\n",
       "0            3.64              0.0        14.0 2020-07-15          NaT   \n",
       "1            3.54              0.0        16.0 2020-07-15          NaT   \n",
       "2            3.98              0.0        16.0 2020-07-15          NaT   \n",
       "3            3.98              0.0        16.0 2020-07-14          NaT   \n",
       "4            3.64              0.0        16.0 2020-07-14          NaT   \n",
       "\n",
       "        Ship City Ship State  Ship Zipcode   Ship Country Variations Item Type  \n",
       "0        SARASOTA         FL           NaN  United States       Kids      Mask  \n",
       "1      Washington         DC           NaN  United States     Adults      Mask  \n",
       "2         Anaheim         CA           NaN  United States     Adults      Mask  \n",
       "3  West Hollywood         CA           NaN  United States      Teens      Mask  \n",
       "4      Saint Paul         MN           NaN  United States       Kids      Mask  "
      ]
     },
     "execution_count": 40,
     "metadata": {},
     "output_type": "execute_result"
    }
   ],
   "source": [
    "df.head()"
   ]
  },
  {
   "cell_type": "code",
   "execution_count": 63,
   "metadata": {
    "scrolled": true
   },
   "outputs": [
    {
     "data": {
      "text/plain": [
       "<seaborn.axisgrid.PairGrid at 0x22d09d6eb88>"
      ]
     },
     "execution_count": 63,
     "metadata": {},
     "output_type": "execute_result"
    },
    {
     "data": {
      "image/png": "[encoded data removed]",
      "text/plain": [
       "<Figure size 648x324 with 1 Axes>"
      ]
     },
     "metadata": {
      "needs_background": "light"
     },
     "output_type": "display_data"
    }
   ],
   "source": [
    "g = sns.pairplot(df, x_vars='Sale Date', y_vars='Item Total', height=4.5, aspect=2)\n",
    "g.set(xlim=('2020-07-15', ))\n",
    "\n"
   ]
  },
  {
   "cell_type": "code",
   "execution_count": null,
   "metadata": {},
   "outputs": [],
   "source": []
  }
 ],
 "metadata": {
  "kernelspec": {
   "display_name": "Python 3",
   "language": "python",
   "name": "python3"
  },
  "language_info": {
   "codemirror_mode": {
    "name": "ipython",
    "version": 3
   },
   "file_extension": ".py",
   "mimetype": "text/x-python",
   "name": "python",
   "nbconvert_exporter": "python",
   "pygments_lexer": "ipython3",
   "version": "3.7.7"
  }
 },
 "nbformat": 4,
 "nbformat_minor": 4
}
