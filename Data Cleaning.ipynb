{
 "cells": [
  {
   "cell_type": "markdown",
   "metadata": {},
   "source": [
    "# Cleaning the Data "
   ]
  },
  {
   "cell_type": "markdown",
   "metadata": {},
   "source": [
    "#### This code cleans the raw csv data file of the Store Mindful Mom Art obtained from Etsy. The Data is from January 1st to July 15th 2020 .\n",
    "#### The data cleaning consists of elaborate steps to make the data more readable and easier to manipulate. "
   ]
  },
  {
   "cell_type": "markdown",
   "metadata": {},
   "source": [
    "Obs: The raw csv file has been altered before uploading in this repository in order to protect the names and addresses of the buyers. "
   ]
  },
  {
   "cell_type": "code",
   "execution_count": 1,
   "metadata": {},
   "outputs": [],
   "source": [
    "# Let's import pandas\n",
    "import pandas as pd"
   ]
  },
  {
   "cell_type": "code",
   "execution_count": 2,
   "metadata": {},
   "outputs": [],
   "source": [
    "# Let's read the raw data file and save it in a dataframe named df\n",
    "df = pd.read_csv('EtsySoldOrderItems2020.csv', parse_dates = ['Sale Date', 'Date Paid', 'Date Shipped'])"
   ]
  },
  {
   "cell_type": "code",
   "execution_count": 3,
   "metadata": {},
   "outputs": [
    {
     "data": {
      "text/html": [
       "<div>\n",
       "<style scoped>\n",
       "    .dataframe tbody tr th:only-of-type {\n",
       "        vertical-align: middle;\n",
       "    }\n",
       "\n",
       "    .dataframe tbody tr th {\n",
       "        vertical-align: top;\n",
       "    }\n",
       "\n",
       "    .dataframe thead th {\n",
       "        text-align: right;\n",
       "    }\n",
       "</style>\n",
       "<table border=\"1\" class=\"dataframe\">\n",
       "  <thead>\n",
       "    <tr style=\"text-align: right;\">\n",
       "      <th></th>\n",
       "      <th>Sale Date</th>\n",
       "      <th>Item Name</th>\n",
       "      <th>Buyer</th>\n",
       "      <th>Quantity</th>\n",
       "      <th>Price</th>\n",
       "      <th>Coupon Code</th>\n",
       "      <th>Coupon Details</th>\n",
       "      <th>Discount Amount</th>\n",
       "      <th>Shipping Discount</th>\n",
       "      <th>Order Shipping</th>\n",
       "      <th>...</th>\n",
       "      <th>Ship Country</th>\n",
       "      <th>Order ID</th>\n",
       "      <th>Variations</th>\n",
       "      <th>Order Type</th>\n",
       "      <th>Listings Type</th>\n",
       "      <th>Payment Type</th>\n",
       "      <th>InPerson Discount</th>\n",
       "      <th>InPerson Location</th>\n",
       "      <th>VAT Paid by Buyer</th>\n",
       "      <th>SKU</th>\n",
       "    </tr>\n",
       "  </thead>\n",
       "  <tbody>\n",
       "    <tr>\n",
       "      <th>0</th>\n",
       "      <td>2020-07-15</td>\n",
       "      <td>Cloth Face Mask - Fabric 100% Cotton, Washable...</td>\n",
       "      <td>NaN</td>\n",
       "      <td>1</td>\n",
       "      <td>14.0</td>\n",
       "      <td>NaN</td>\n",
       "      <td>NaN</td>\n",
       "      <td>0.0</td>\n",
       "      <td>0.0</td>\n",
       "      <td>3.64</td>\n",
       "      <td>...</td>\n",
       "      <td>United States</td>\n",
       "      <td>NaN</td>\n",
       "      <td>Pattern:7-13 years old</td>\n",
       "      <td>online</td>\n",
       "      <td>listing</td>\n",
       "      <td>online_cc</td>\n",
       "      <td>NaN</td>\n",
       "      <td>NaN</td>\n",
       "      <td>0</td>\n",
       "      <td>NaN</td>\n",
       "    </tr>\n",
       "    <tr>\n",
       "      <th>1</th>\n",
       "      <td>2020-07-15</td>\n",
       "      <td>Cloth Face Mask, Cotton Face Mask, Fashion Fac...</td>\n",
       "      <td>NaN</td>\n",
       "      <td>1</td>\n",
       "      <td>16.0</td>\n",
       "      <td>NaN</td>\n",
       "      <td>NaN</td>\n",
       "      <td>0.0</td>\n",
       "      <td>0.0</td>\n",
       "      <td>3.54</td>\n",
       "      <td>...</td>\n",
       "      <td>United States</td>\n",
       "      <td>NaN</td>\n",
       "      <td>Pattern:Adults</td>\n",
       "      <td>online</td>\n",
       "      <td>listing</td>\n",
       "      <td>online_cc</td>\n",
       "      <td>NaN</td>\n",
       "      <td>NaN</td>\n",
       "      <td>0</td>\n",
       "      <td>NaN</td>\n",
       "    </tr>\n",
       "  </tbody>\n",
       "</table>\n",
       "<p>2 rows × 33 columns</p>\n",
       "</div>"
      ],
      "text/plain": [
       "   Sale Date                                          Item Name  Buyer  \\\n",
       "0 2020-07-15  Cloth Face Mask - Fabric 100% Cotton, Washable...    NaN   \n",
       "1 2020-07-15  Cloth Face Mask, Cotton Face Mask, Fashion Fac...    NaN   \n",
       "\n",
       "   Quantity  Price Coupon Code Coupon Details  Discount Amount  \\\n",
       "0         1   14.0         NaN            NaN              0.0   \n",
       "1         1   16.0         NaN            NaN              0.0   \n",
       "\n",
       "   Shipping Discount  Order Shipping  ...   Ship Country  Order ID  \\\n",
       "0                0.0            3.64  ...  United States       NaN   \n",
       "1                0.0            3.54  ...  United States       NaN   \n",
       "\n",
       "               Variations  Order Type  Listings Type Payment Type  \\\n",
       "0  Pattern:7-13 years old      online        listing    online_cc   \n",
       "1          Pattern:Adults      online        listing    online_cc   \n",
       "\n",
       "  InPerson Discount  InPerson Location  VAT Paid by Buyer  SKU  \n",
       "0               NaN                NaN                  0  NaN  \n",
       "1               NaN                NaN                  0  NaN  \n",
       "\n",
       "[2 rows x 33 columns]"
      ]
     },
     "execution_count": 3,
     "metadata": {},
     "output_type": "execute_result"
    }
   ],
   "source": [
    "df.head(2)"
   ]
  },
  {
   "cell_type": "code",
   "execution_count": 4,
   "metadata": {},
   "outputs": [],
   "source": [
    "# Let's delete some columns that won't be used in our analysis. \n",
    "df.drop(['Buyer','Coupon Code', 'Coupon Details', 'Discount Amount', 'Order ID', 'Order Type', 'Listings Type', \n",
    "         'Payment Type', 'InPerson Discount', 'InPerson Location', 'VAT Paid by Buyer', 'SKU', 'Transaction ID', \n",
    "         'Ship Name', 'Ship Address1', 'Ship Address2', 'Listing ID', 'Currency', 'Order ID'], inplace = True, axis = 1)"
   ]
  },
  {
   "cell_type": "code",
   "execution_count": 5,
   "metadata": {},
   "outputs": [
    {
     "data": {
      "text/html": [
       "<div>\n",
       "<style scoped>\n",
       "    .dataframe tbody tr th:only-of-type {\n",
       "        vertical-align: middle;\n",
       "    }\n",
       "\n",
       "    .dataframe tbody tr th {\n",
       "        vertical-align: top;\n",
       "    }\n",
       "\n",
       "    .dataframe thead th {\n",
       "        text-align: right;\n",
       "    }\n",
       "</style>\n",
       "<table border=\"1\" class=\"dataframe\">\n",
       "  <thead>\n",
       "    <tr style=\"text-align: right;\">\n",
       "      <th></th>\n",
       "      <th>Sale Date</th>\n",
       "      <th>Item Name</th>\n",
       "      <th>Quantity</th>\n",
       "      <th>Price</th>\n",
       "      <th>Shipping Discount</th>\n",
       "      <th>Order Shipping</th>\n",
       "      <th>Order Sales Tax</th>\n",
       "      <th>Item Total</th>\n",
       "      <th>Date Paid</th>\n",
       "      <th>Date Shipped</th>\n",
       "      <th>Ship City</th>\n",
       "      <th>Ship State</th>\n",
       "      <th>Ship Zipcode</th>\n",
       "      <th>Ship Country</th>\n",
       "      <th>Variations</th>\n",
       "    </tr>\n",
       "  </thead>\n",
       "  <tbody>\n",
       "    <tr>\n",
       "      <th>0</th>\n",
       "      <td>2020-07-15</td>\n",
       "      <td>Cloth Face Mask - Fabric 100% Cotton, Washable...</td>\n",
       "      <td>1</td>\n",
       "      <td>14.0</td>\n",
       "      <td>0.0</td>\n",
       "      <td>3.64</td>\n",
       "      <td>0.0</td>\n",
       "      <td>14.0</td>\n",
       "      <td>2020-07-15</td>\n",
       "      <td>NaT</td>\n",
       "      <td>SARASOTA</td>\n",
       "      <td>FL</td>\n",
       "      <td>NaN</td>\n",
       "      <td>United States</td>\n",
       "      <td>Pattern:7-13 years old</td>\n",
       "    </tr>\n",
       "    <tr>\n",
       "      <th>1</th>\n",
       "      <td>2020-07-15</td>\n",
       "      <td>Cloth Face Mask, Cotton Face Mask, Fashion Fac...</td>\n",
       "      <td>1</td>\n",
       "      <td>16.0</td>\n",
       "      <td>0.0</td>\n",
       "      <td>3.54</td>\n",
       "      <td>0.0</td>\n",
       "      <td>16.0</td>\n",
       "      <td>2020-07-15</td>\n",
       "      <td>NaT</td>\n",
       "      <td>Washington</td>\n",
       "      <td>DC</td>\n",
       "      <td>NaN</td>\n",
       "      <td>United States</td>\n",
       "      <td>Pattern:Adults</td>\n",
       "    </tr>\n",
       "  </tbody>\n",
       "</table>\n",
       "</div>"
      ],
      "text/plain": [
       "   Sale Date                                          Item Name  Quantity  \\\n",
       "0 2020-07-15  Cloth Face Mask - Fabric 100% Cotton, Washable...         1   \n",
       "1 2020-07-15  Cloth Face Mask, Cotton Face Mask, Fashion Fac...         1   \n",
       "\n",
       "   Price  Shipping Discount  Order Shipping  Order Sales Tax  Item Total  \\\n",
       "0   14.0                0.0            3.64              0.0        14.0   \n",
       "1   16.0                0.0            3.54              0.0        16.0   \n",
       "\n",
       "   Date Paid Date Shipped   Ship City Ship State  Ship Zipcode   Ship Country  \\\n",
       "0 2020-07-15          NaT    SARASOTA         FL           NaN  United States   \n",
       "1 2020-07-15          NaT  Washington         DC           NaN  United States   \n",
       "\n",
       "               Variations  \n",
       "0  Pattern:7-13 years old  \n",
       "1          Pattern:Adults  "
      ]
     },
     "execution_count": 5,
     "metadata": {},
     "output_type": "execute_result"
    }
   ],
   "source": [
    "df.head(2)"
   ]
  },
  {
   "cell_type": "markdown",
   "metadata": {},
   "source": [
    "#### Import the Item key/value new Item Names.\n",
    "The column two (Item Name) from the dataframe df presents long and non-efficient names for the items sold in the store. The Excel file \"NewItemNames\" presents all of the Item Names and the New Item Names optimized. The New Item Names describes the Item Type and also the Fabric Pattern chosen. \n"
   ]
  },
  {
   "cell_type": "code",
   "execution_count": 6,
   "metadata": {},
   "outputs": [],
   "source": [
    "# Let's read the excel file and save it in a dataframe named nc\n",
    "nc = pd.read_excel('NewItemNames.xlsx')"
   ]
  },
  {
   "cell_type": "code",
   "execution_count": 7,
   "metadata": {},
   "outputs": [],
   "source": [
    "# Logic that replaces the Item Name for the New Item Name\n",
    "for i in range(0,len(nc)):\n",
    "    df['Item Name'] =  df['Item Name'].str.replace(nc.iloc[i,0], nc.iloc[i,1])\n",
    "mask1 = 'Cloth Face Mask, Cotton Face Mask, Fashion Face Mask, Reusable Face Mask'\n",
    "mask2 = 'Cotton Face Mask, Fashion Face Mask, Reusable Face Mask, Cloth Face Mask- Anti-Pollution & Anti-Dust'\n",
    "df['Item Name'] =  df['Item Name'].str.replace(mask1, 'Mask - Sketch Art')\n",
    "df['Item Name'] =  df['Item Name'].str.replace(mask2, 'Mask - Sketch Art')"
   ]
  },
  {
   "cell_type": "code",
   "execution_count": 8,
   "metadata": {},
   "outputs": [
    {
     "data": {
      "text/plain": [
       "0           Mask - Unicorns\n",
       "1               Mask - Cats\n",
       "2            Mask - Daisies\n",
       "3    Mask - Bananas on Pink\n",
       "4    Mask - Bananas on Pink\n",
       "Name: Item Name, dtype: object"
      ]
     },
     "execution_count": 8,
     "metadata": {},
     "output_type": "execute_result"
    }
   ],
   "source": [
    "df['Item Name'].head()"
   ]
  },
  {
   "cell_type": "code",
   "execution_count": 9,
   "metadata": {},
   "outputs": [],
   "source": [
    "# Let's add a new column named Item Type \n",
    "# First let's Create an Empty Column \n",
    "df['Item Type'] = ''"
   ]
  },
  {
   "cell_type": "code",
   "execution_count": 10,
   "metadata": {},
   "outputs": [],
   "source": [
    "# Now let's apply a logic to name each item type (e.g.Mask, Teething Ring, etc)\n",
    "for i in range(0,len(df)):\n",
    "    df.loc[i, 'Item Type'] =  df.iloc[i,1].split('-')[0].strip()"
   ]
  },
  {
   "cell_type": "code",
   "execution_count": 11,
   "metadata": {},
   "outputs": [
    {
     "data": {
      "text/plain": [
       "178    Mask\n",
       "275    Mask\n",
       "582    Mask\n",
       "914    Mask\n",
       "12     Mask\n",
       "Name: Item Type, dtype: object"
      ]
     },
     "execution_count": 11,
     "metadata": {},
     "output_type": "execute_result"
    }
   ],
   "source": [
    "df['Item Type'].sample(5)"
   ]
  },
  {
   "cell_type": "code",
   "execution_count": 12,
   "metadata": {},
   "outputs": [],
   "source": [
    "# Let's change the Variations Text to better definitions\n",
    "df['Variations'] = df['Variations'].str.strip().str.lower()"
   ]
  },
  {
   "cell_type": "code",
   "execution_count": 13,
   "metadata": {},
   "outputs": [],
   "source": [
    "# Remove the word pattern and change the names to kids(7-19 years old) and toddles(3-6 years old)\n",
    "df['Variations']=  df['Variations'].str.replace('pattern:teens', 'Teens')\n",
    "df['Variations']=  df['Variations'].str.replace('pattern:7-13 years old', 'Kids')\n",
    "df['Variations']=  df['Variations'].str.replace('pattern:adults', 'Adults')\n",
    "df['Variations']=  df['Variations'].str.replace('pattern:3-6 years old', 'Toddlers')\n",
    "df['Variations']=  df['Variations'].str.replace('teens and adults', 'Adults')"
   ]
  },
  {
   "cell_type": "code",
   "execution_count": 14,
   "metadata": {},
   "outputs": [
    {
     "data": {
      "text/plain": [
       "0      Kids\n",
       "1    Adults\n",
       "2    Adults\n",
       "3     Teens\n",
       "4      Kids\n",
       "Name: Variations, dtype: object"
      ]
     },
     "execution_count": 14,
     "metadata": {},
     "output_type": "execute_result"
    }
   ],
   "source": [
    "df['Variations'].head()"
   ]
  },
  {
   "cell_type": "code",
   "execution_count": 15,
   "metadata": {},
   "outputs": [
    {
     "name": "stdout",
     "output_type": "stream",
     "text": [
      "<class 'pandas.core.frame.DataFrame'>\n",
      "RangeIndex: 1073 entries, 0 to 1072\n",
      "Data columns (total 16 columns):\n",
      " #   Column             Non-Null Count  Dtype         \n",
      "---  ------             --------------  -----         \n",
      " 0   Sale Date          1073 non-null   datetime64[ns]\n",
      " 1   Item Name          1073 non-null   object        \n",
      " 2   Quantity           1073 non-null   int64         \n",
      " 3   Price              1073 non-null   float64       \n",
      " 4   Shipping Discount  1073 non-null   float64       \n",
      " 5   Order Shipping     1073 non-null   float64       \n",
      " 6   Order Sales Tax    1073 non-null   float64       \n",
      " 7   Item Total         1073 non-null   float64       \n",
      " 8   Date Paid          1073 non-null   datetime64[ns]\n",
      " 9   Date Shipped       1065 non-null   datetime64[ns]\n",
      " 10  Ship City          1073 non-null   object        \n",
      " 11  Ship State         1069 non-null   object        \n",
      " 12  Ship Zipcode       0 non-null      float64       \n",
      " 13  Ship Country       1073 non-null   object        \n",
      " 14  Variations         904 non-null    object        \n",
      " 15  Item Type          1073 non-null   object        \n",
      "dtypes: datetime64[ns](3), float64(6), int64(1), object(6)\n",
      "memory usage: 134.2+ KB\n"
     ]
    }
   ],
   "source": [
    "df.info()"
   ]
  },
  {
   "cell_type": "code",
   "execution_count": 16,
   "metadata": {},
   "outputs": [],
   "source": [
    "#Let's use the astype method to reduce the size of our data\n",
    "df[\"Item Name\"] = df[\"Item Name\"].astype(\"category\")\n",
    "df[\"Ship State\"] = df[\"Ship State\"].astype(\"category\")\n",
    "df[\"Ship Country\"] = df[\"Ship Country\"].astype(\"category\")\n",
    "df[\"Variations\"] = df[\"Variations\"].astype(\"category\")\n",
    "df[\"Item Type\"] = df[\"Item Type\"].astype(\"category\")\n",
    "df[\"Quantity\"] = df[\"Quantity\"].astype(\"int\")"
   ]
  },
  {
   "cell_type": "code",
   "execution_count": 17,
   "metadata": {},
   "outputs": [
    {
     "name": "stdout",
     "output_type": "stream",
     "text": [
      "<class 'pandas.core.frame.DataFrame'>\n",
      "RangeIndex: 1073 entries, 0 to 1072\n",
      "Data columns (total 16 columns):\n",
      " #   Column             Non-Null Count  Dtype         \n",
      "---  ------             --------------  -----         \n",
      " 0   Sale Date          1073 non-null   datetime64[ns]\n",
      " 1   Item Name          1073 non-null   category      \n",
      " 2   Quantity           1073 non-null   int32         \n",
      " 3   Price              1073 non-null   float64       \n",
      " 4   Shipping Discount  1073 non-null   float64       \n",
      " 5   Order Shipping     1073 non-null   float64       \n",
      " 6   Order Sales Tax    1073 non-null   float64       \n",
      " 7   Item Total         1073 non-null   float64       \n",
      " 8   Date Paid          1073 non-null   datetime64[ns]\n",
      " 9   Date Shipped       1065 non-null   datetime64[ns]\n",
      " 10  Ship City          1073 non-null   object        \n",
      " 11  Ship State         1069 non-null   category      \n",
      " 12  Ship Zipcode       0 non-null      float64       \n",
      " 13  Ship Country       1073 non-null   category      \n",
      " 14  Variations         904 non-null    category      \n",
      " 15  Item Type          1073 non-null   category      \n",
      "dtypes: category(5), datetime64[ns](3), float64(6), int32(1), object(1)\n",
      "memory usage: 104.2+ KB\n"
     ]
    }
   ],
   "source": [
    "df.info()"
   ]
  },
  {
   "cell_type": "code",
   "execution_count": 18,
   "metadata": {},
   "outputs": [],
   "source": [
    "#Let's save our cleaned data in a csv file\n",
    "df.to_csv('DataCleaned.csv')"
   ]
  }
 ],
 "metadata": {
  "kernelspec": {
   "display_name": "Python 3",
   "language": "python",
   "name": "python3"
  },
  "language_info": {
   "codemirror_mode": {
    "name": "ipython",
    "version": 3
   },
   "file_extension": ".py",
   "mimetype": "text/x-python",
   "name": "python",
   "nbconvert_exporter": "python",
   "pygments_lexer": "ipython3",
   "version": "3.7.7"
  }
 },
 "nbformat": 4,
 "nbformat_minor": 4
}
